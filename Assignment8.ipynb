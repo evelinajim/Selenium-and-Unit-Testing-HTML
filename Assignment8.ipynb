{
 "cells": [
  {
   "cell_type": "code",
   "execution_count": 17,
   "metadata": {},
   "outputs": [
    {
     "data": {
      "text/plain": [
       "' Part 1 '"
      ]
     },
     "execution_count": 17,
     "metadata": {},
     "output_type": "execute_result"
    }
   ],
   "source": [
    "\"\"\" Part 1 \"\"\""
   ]
  },
  {
   "cell_type": "code",
   "execution_count": 19,
   "metadata": {
    "scrolled": true
   },
   "outputs": [
    {
     "name": "stdout",
     "output_type": "stream",
     "text": [
      "The Wind Rises (2013) has a rating of 7.8/10\n"
     ]
    }
   ],
   "source": [
    "import time\n",
    "from selenium import webdriver\n",
    "from selenium.webdriver.common.keys import Keys\n",
    "\n",
    "driver = webdriver.Firefox(executable_path='C:\\geckodriver.exe')\n",
    "driver.get('https://www.imdb.com/')\n",
    "\n",
    "searchIcon = driver.find_element_by_id('suggestion-search')\n",
    "searchIcon.click()\n",
    "\n",
    "elem = driver.find_element_by_name(\"q\")\n",
    "elem.send_keys(\"the wind rises\") \n",
    "elem.send_keys(Keys.RETURN)\n",
    "time.sleep(2)\n",
    "\n",
    "first = driver.find_element_by_class_name('primary_photo')\n",
    "first.click()\n",
    "time.sleep(1)\n",
    "\n",
    "title = driver.find_element_by_tag_name('h1')\n",
    "rating = driver.find_element_by_class_name('ratingValue')\n",
    "print(title.text, 'has a rating of', rating.text)\n",
    "driver.close()"
   ]
  },
  {
   "cell_type": "code",
   "execution_count": null,
   "metadata": {},
   "outputs": [],
   "source": []
  },
  {
   "cell_type": "code",
   "execution_count": null,
   "metadata": {},
   "outputs": [],
   "source": [
    "\n"
   ]
  },
  {
   "cell_type": "code",
   "execution_count": null,
   "metadata": {},
   "outputs": [],
   "source": []
  }
 ],
 "metadata": {
  "kernelspec": {
   "display_name": "Python 3",
   "language": "python",
   "name": "python3"
  },
  "language_info": {
   "codemirror_mode": {
    "name": "ipython",
    "version": 3
   },
   "file_extension": ".py",
   "mimetype": "text/x-python",
   "name": "python",
   "nbconvert_exporter": "python",
   "pygments_lexer": "ipython3",
   "version": "3.7.3"
  }
 },
 "nbformat": 4,
 "nbformat_minor": 2
}
